{
 "cells": [
  {
   "cell_type": "code",
   "execution_count": 3,
   "metadata": {},
   "outputs": [],
   "source": [
    "import pandas as pd\n",
    "import numpy as np\n",
    "import matplotlib.pyplot as plt\n",
    "import seaborn as sns\n",
    "from sklearn.linear_model import LogisticRegression\n",
    "from sklearn.model_selection import train_test_split\n",
    "from sklearn.metrics import confusion_matrix, classification_report\n",
    "from sklearn.metrics import roc_curve, roc_auc_score"
   ]
  },
  {
   "cell_type": "markdown",
   "metadata": {},
   "source": [
    "#### Case 1: Wisconsin Breast Cancer Dataset\n",
    "\n",
    "The Wisconsin Breast Cancer Data Set is a well-known dataset widely used in machine learning and data mining research. It contains information about breast cancer tumors and their characteristics, primarily used for the classification of tumors as either benign or malignant.\n"
   ]
  },
  {
   "cell_type": "markdown",
   "metadata": {},
   "source": [
    "##### I. Introduction\n",
    "\n",
    "a. Brief overview of the Wisconsin Breast Cancer Data Set\n",
    "\n",
    "- The dataset contains 569 instances, 212 of which are malignant and 357 of which are benign.\n",
    "\n",
    "b. Importance of breast cancer diagnosis and prediction\n",
    "\n",
    "- The early diagnosis of breast cancer is of important as we can treat the cancer more effectively if it is detected at an early stage.\n"
   ]
  },
  {
   "cell_type": "markdown",
   "metadata": {},
   "source": [
    "##### II. Background Information\n",
    "\n",
    "a. Explanation of the Wisconsin Breast Cancer Data Set\n",
    "\n",
    "-\n",
    "\n",
    "b. Description of the attributes and features in dataset\n",
    "\n",
    "-\n",
    "\n",
    "c. Significance of the data set in breast cancer research\n",
    "\n",
    "- The dataset is widely used in machine learning and data mining research. It is used to predict whether a tumor is benign or malignant based on the features of the tumor.\n"
   ]
  }
 ],
 "metadata": {
  "kernelspec": {
   "display_name": "Python 3",
   "language": "python",
   "name": "python3"
  },
  "language_info": {
   "codemirror_mode": {
    "name": "ipython",
    "version": 3
   },
   "file_extension": ".py",
   "mimetype": "text/x-python",
   "name": "python",
   "nbconvert_exporter": "python",
   "pygments_lexer": "ipython3",
   "version": "3.11.3"
  },
  "orig_nbformat": 4
 },
 "nbformat": 4,
 "nbformat_minor": 2
}
