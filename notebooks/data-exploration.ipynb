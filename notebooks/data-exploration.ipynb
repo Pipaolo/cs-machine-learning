{
 "cells": [
  {
   "cell_type": "code",
   "execution_count": null,
   "metadata": {},
   "outputs": [],
   "source": [
    "import matplotlib.pyplot as plt\n",
    "import pandas as pd\n",
    "import numpy as np"
   ]
  },
  {
   "cell_type": "code",
   "execution_count": null,
   "metadata": {},
   "outputs": [],
   "source": [
    "df = pd.read_csv('datasets/countries_of_the_world.csv')\n"
   ]
  },
  {
   "cell_type": "code",
   "execution_count": null,
   "metadata": {},
   "outputs": [],
   "source": [
    "df.shape"
   ]
  },
  {
   "cell_type": "code",
   "execution_count": null,
   "metadata": {},
   "outputs": [],
   "source": [
    "df.columns"
   ]
  },
  {
   "cell_type": "code",
   "execution_count": null,
   "metadata": {},
   "outputs": [],
   "source": [
    "df.dtypes"
   ]
  },
  {
   "cell_type": "code",
   "execution_count": null,
   "metadata": {},
   "outputs": [],
   "source": [
    "desc_stats = df.describe()\n",
    "print('Descriptive Statistics:\\n')\n",
    "print(desc_stats)"
   ]
  },
  {
   "cell_type": "code",
   "execution_count": null,
   "metadata": {},
   "outputs": [],
   "source": [
    "df.count()"
   ]
  },
  {
   "cell_type": "code",
   "execution_count": null,
   "metadata": {},
   "outputs": [],
   "source": [
    "df.isnull().sum()"
   ]
  },
  {
   "cell_type": "code",
   "execution_count": null,
   "metadata": {},
   "outputs": [],
   "source": [
    "df = df.rename(\n",
    "    columns={\n",
    "        'Net migration': 'net_migration'\n",
    "        ,'Infant mortality': 'infant_mortality'\n",
    "        ,'GDP ($ per capita)': 'gdp_per_capita'\n",
    "        ,'Literacy (%)': 'literacy'\n",
    "        ,'Phones (per 1000)': 'phones_per_1000'\n",
    "        ,'Arable (%)': 'arable'\n",
    "        ,'Crops (%)': 'crops'\n",
    "        ,'Other (%)': 'other'\n",
    "        ,'Birthrate': 'birthrate'\n",
    "        ,'Deathrate': 'deathrate'\n",
    "        ,'Agriculture': 'agriculture'\n",
    "        ,'Industry': 'industry'\n",
    "        ,'Service': 'service'\n",
    "    }\n",
    ")"
   ]
  },
  {
   "cell_type": "code",
   "execution_count": 3,
   "metadata": {},
   "outputs": [],
   "source": [
    "df = pd.read_csv('datasets/countries_of_the_world.csv')\n"
   ]
  },
  {
   "cell_type": "code",
   "execution_count": 5,
   "metadata": {},
   "outputs": [
    {
     "data": {
      "text/plain": [
       "Index(['Country', 'Region', 'Population', 'Area (sq. mi.)',\n",
       "       'Pop. Density (per sq. mi.)', 'Coastline (coast/area ratio)',\n",
       "       'Net migration', 'Infant mortality (per 1000 births)',\n",
       "       'GDP ($ per capita)', 'Literacy (%)', 'Phones (per 1000)', 'Arable (%)',\n",
       "       'Crops (%)', 'Other (%)', 'Climate', 'Birthrate', 'Deathrate',\n",
       "       'Agriculture', 'Industry', 'Service'],\n",
       "      dtype='object')"
      ]
     },
     "execution_count": 5,
     "metadata": {},
     "output_type": "execute_result"
    }
   ],
   "source": [
    "df.columns"
   ]
  },
  {
   "cell_type": "code",
   "execution_count": 7,
   "metadata": {},
   "outputs": [
    {
     "name": "stdout",
     "output_type": "stream",
     "text": [
      "Descriptive Statistics:\n",
      "\n",
      "         Population  Area (sq. mi.)  Pop. Density (per sq. mi.)  \\\n",
      "count  2.270000e+02    2.270000e+02                  227.000000   \n",
      "mean   2.874028e+07    5.982270e+05                  379.047137   \n",
      "std    1.178913e+08    1.790282e+06                 1660.185825   \n",
      "min    7.026000e+03    2.000000e+00                    0.000000   \n",
      "25%    4.376240e+05    4.647500e+03                   29.150000   \n",
      "50%    4.786994e+06    8.660000e+04                   78.800000   \n",
      "75%    1.749777e+07    4.418110e+05                  190.150000   \n",
      "max    1.313974e+09    1.707520e+07                16271.500000   \n",
      "\n",
      "       Coastline (coast/area ratio)  Net migration  \\\n",
      "count                    227.000000     224.000000   \n",
      "mean                      21.165330       0.038125   \n",
      "std                       72.286863       4.889269   \n",
      "min                        0.000000     -20.990000   \n",
      "25%                        0.100000      -0.927500   \n",
      "50%                        0.730000       0.000000   \n",
      "75%                       10.345000       0.997500   \n",
      "max                      870.660000      23.060000   \n",
      "\n",
      "       Infant mortality (per 1000 births)  GDP ($ per capita)  Literacy (%)  \\\n",
      "count                          224.000000          226.000000    209.000000   \n",
      "mean                            35.506964         9689.823009     82.838278   \n",
      "std                             35.389899        10049.138513     19.722173   \n",
      "min                              2.290000          500.000000     17.600000   \n",
      "25%                              8.150000         1900.000000     70.600000   \n",
      "50%                             21.000000         5550.000000     92.500000   \n",
      "75%                             55.705000        15700.000000     98.000000   \n",
      "max                            191.190000        55100.000000    100.000000   \n",
      "\n",
      "       Phones (per 1000)  Arable (%)   Crops (%)   Other (%)     Climate  \\\n",
      "count         223.000000  225.000000  225.000000  225.000000  205.000000   \n",
      "mean          236.061435   13.797111    4.564222   81.638311    2.139024   \n",
      "std           227.991829   13.040402    8.361470   16.140835    0.699397   \n",
      "min             0.200000    0.000000    0.000000   33.330000    1.000000   \n",
      "25%            37.800000    3.220000    0.190000   71.650000    2.000000   \n",
      "50%           176.200000   10.420000    1.030000   85.700000    2.000000   \n",
      "75%           389.650000   20.000000    4.440000   95.440000    3.000000   \n",
      "max          1035.600000   62.110000   50.680000  100.000000    4.000000   \n",
      "\n",
      "        Birthrate   Deathrate  Agriculture    Industry     Service  \n",
      "count  224.000000  223.000000   212.000000  211.000000  212.000000  \n",
      "mean    22.114732    9.241345     0.150844    0.282711    0.565283  \n",
      "std     11.176716    4.990026     0.146798    0.138272    0.165841  \n",
      "min      7.290000    2.290000     0.000000    0.020000    0.062000  \n",
      "25%     12.672500    5.910000     0.037750    0.193000    0.429250  \n",
      "50%     18.790000    7.840000     0.099000    0.272000    0.571000  \n",
      "75%     29.820000   10.605000     0.221000    0.341000    0.678500  \n",
      "max     50.730000   29.740000     0.769000    0.906000    0.954000  \n"
     ]
    }
   ],
   "source": [
    "desc_stats = df.describe()\n",
    "print('Descriptive Statistics:\\n')\n",
    "print(desc_stats)"
   ]
  },
  {
   "cell_type": "code",
   "execution_count": 9,
   "metadata": {},
   "outputs": [
    {
     "data": {
      "text/plain": [
       "Country                                0\n",
       "Region                                 0\n",
       "Population                             0\n",
       "Area (sq. mi.)                         0\n",
       "Pop. Density (per sq. mi.)             0\n",
       "Coastline (coast/area ratio)           0\n",
       "Net migration                          3\n",
       "Infant mortality (per 1000 births)     3\n",
       "GDP ($ per capita)                     1\n",
       "Literacy (%)                          18\n",
       "Phones (per 1000)                      4\n",
       "Arable (%)                             2\n",
       "Crops (%)                              2\n",
       "Other (%)                              2\n",
       "Climate                               22\n",
       "Birthrate                              3\n",
       "Deathrate                              4\n",
       "Agriculture                           15\n",
       "Industry                              16\n",
       "Service                               15\n",
       "dtype: int64"
      ]
     },
     "execution_count": 9,
     "metadata": {},
     "output_type": "execute_result"
    }
   ],
   "source": [
    "df.isnull().sum()"
   ]
  },
  {
   "cell_type": "code",
   "execution_count": 13,
   "metadata": {},
   "outputs": [
    {
     "data": {
      "text/plain": [
       "Country                                0\n",
       "Region                                 0\n",
       "Population                             0\n",
       "Area (sq. mi.)                         0\n",
       "Pop. Density (per sq. mi.)             0\n",
       "Coastline (coast/area ratio)           0\n",
       "net_migration                          3\n",
       "Infant mortality (per 1000 births)     3\n",
       "gdp_per_capita                         1\n",
       "literacy                              18\n",
       "phones_per_1000                        4\n",
       "arable                                 2\n",
       "crops                                  2\n",
       "other                                  2\n",
       "Climate                               22\n",
       "birthrate                              3\n",
       "deathrate                              4\n",
       "agriculture                           15\n",
       "industry                              16\n",
       "service                               15\n",
       "dtype: int64"
      ]
     },
     "execution_count": 13,
     "metadata": {},
     "output_type": "execute_result"
    }
   ],
   "source": [
    "df.isna().sum()"
   ]
  },
  {
   "cell_type": "code",
   "execution_count": null,
   "metadata": {},
   "outputs": [],
   "source": []
  }
 ],
 "metadata": {
  "kernelspec": {
   "display_name": "Python 3",
   "language": "python",
   "name": "python3"
  },
  "language_info": {
   "codemirror_mode": {
    "name": "ipython",
    "version": 3
   },
   "file_extension": ".py",
   "mimetype": "text/x-python",
   "name": "python",
   "nbconvert_exporter": "python",
   "pygments_lexer": "ipython3",
   "version": "3.11.3"
  },
  "orig_nbformat": 4
 },
 "nbformat": 4,
 "nbformat_minor": 2
}
